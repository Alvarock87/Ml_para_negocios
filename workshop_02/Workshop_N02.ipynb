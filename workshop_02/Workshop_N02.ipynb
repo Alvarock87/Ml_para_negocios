{
  "nbformat": 4,
  "nbformat_minor": 0,
  "metadata": {
    "colab": {
      "name": "Workshop N02.ipynb",
      "provenance": [],
      "authorship_tag": "ABX9TyPvWH6JqFHKhxDp0gjuYL4t",
      "include_colab_link": true
    },
    "kernelspec": {
      "name": "python3",
      "display_name": "Python 3"
    }
  },
  "cells": [
    {
      "cell_type": "markdown",
      "metadata": {
        "id": "view-in-github",
        "colab_type": "text"
      },
      "source": [
        "<a href=\"https://colab.research.google.com/github/emmt1998/ML-para-Negocios/blob/main/workshop_02/Workshop_N02.ipynb\" target=\"_parent\"><img src=\"https://colab.research.google.com/assets/colab-badge.svg\" alt=\"Open In Colab\"/></a>"
      ]
    },
    {
      "cell_type": "markdown",
      "metadata": {
        "id": "qWO894XtENJw"
      },
      "source": [
        "# Workshop N02: Recomendador parte 1\r\n",
        "Dictado por Sergio Valenzuela / sergio@tecnopolis.ai / serginho61@gmail.com\r\n",
        "\r\n",
        "Redactado por Efrain Magaña / emmt1998@gmail.com\r\n",
        "\r\n",
        "Puedes copiar este Jupyter Notebook a tu drive llendo a Archivo-> Guardar una Copia en Drive\r\n"
      ]
    },
    {
      "cell_type": "markdown",
      "metadata": {
        "id": "cwq0noc5JvSo"
      },
      "source": [
        "# Carga de Dataset\r\n",
        "En este workshop usaremos los datos en `ml-latest-small.zip` de https://grouplens.org/datasets/movielens/latest/ el cual corresponde a 100mil ratings y 3600 etiquetas aplicadas a 9000 peliculas por 600 usuarios.\r\n",
        "\r\n",
        "En especifico usaremos los archivos `movies.csv` y `ratings.csv` que estan dentro del zip.\r\n",
        "\r\n",
        "Hay dos metodos para cargar los archivos al ambiente de Google Collab, uno es manual, llendo al icono de carpeta en el costado izquierdo y luego presionar en el icono de un archivo con una flecha hacia arriba, tambien se pueden arrastrar los archivos. \r\n",
        "\r\n",
        "El otro metodo es ejecutar el siguiente codigo, este copiara el repositorio del curso en el ambiente y por ende copiara los archivos en la carpeta `ML-para-Negocios/workshop_02/ml-latest-small/` en donde ya estan descomprimidos `movies.csv` y `ratings.csv`."
      ]
    },
    {
      "cell_type": "code",
      "metadata": {
        "colab": {
          "base_uri": "https://localhost:8080/"
        },
        "id": "QLWliYQfMguf",
        "outputId": "812717f6-df56-41d4-b1be-376e282d5c40"
      },
      "source": [
        "%cd /content/\r\n",
        "!rm -r /content/ML-para-Negocios #remueve el repositorio si es que ya se habia cargado\r\n",
        "!git clone https://github.com/emmt1998/ML-para-Negocios.git #copia el repositorio"
      ],
      "execution_count": 2,
      "outputs": [
        {
          "output_type": "stream",
          "text": [
            "/content\n",
            "rm: cannot remove '/content/ML-para-Negocios': No such file or directory\n",
            "Cloning into 'ML-para-Negocios'...\n",
            "remote: Enumerating objects: 71, done.\u001b[K\n",
            "remote: Counting objects: 100% (71/71), done.\u001b[K\n",
            "remote: Compressing objects: 100% (68/68), done.\u001b[K\n",
            "remote: Total 71 (delta 22), reused 0 (delta 0), pack-reused 0\u001b[K\n",
            "Unpacking objects: 100% (71/71), done.\n"
          ],
          "name": "stdout"
        }
      ]
    },
    {
      "cell_type": "markdown",
      "metadata": {
        "id": "5hADN1ymN10M"
      },
      "source": [
        "Si revisas en el icono de la carpeta encontraras que se cargo el repositorio al ambiente."
      ]
    },
    {
      "cell_type": "markdown",
      "metadata": {
        "id": "mZDnCjcVIIfL"
      },
      "source": [
        "# Libreria Pandas\r\n",
        "En esta ocacion usaremos la libreria pandas para trabajar con los archivos. \r\n",
        "\r\n",
        "En la siguiente pagina encontraras mas informacion sobre la libreria:\r\n",
        "\r\n",
        "* https://pandas.pydata.org/docs/getting_started/index.html\r\n",
        "\r\n",
        "Ejecutmos la siguiente celda para importar la libreria al ambiente.\r\n"
      ]
    },
    {
      "cell_type": "code",
      "metadata": {
        "id": "jVOnHHdYV6fE"
      },
      "source": [
        "import pandas as pd #notamos que le asignamos el nombre de pd"
      ],
      "execution_count": 3,
      "outputs": []
    },
    {
      "cell_type": "markdown",
      "metadata": {
        "id": "rXWasdg6YpEW"
      },
      "source": [
        "# Carga de datos\r\n",
        "Primero cargamos los datos a variables para trabajar con ellos."
      ]
    },
    {
      "cell_type": "code",
      "metadata": {
        "id": "PInHDDRRWYd-"
      },
      "source": [
        "# Primero seteamos las direcciones en donde estan los archivos a usar\r\n",
        "dir_archivos = \"/content/ML-para-Negocios/workshop_02/ml-latest-small/\"\r\n",
        "dir_movies = dir_archivos +\"movies.csv\"\r\n",
        "dir_ratings = dir_archivos + \"ratings.csv\"\r\n",
        "\r\n",
        "# usamos el metodo de pandas para leer los csv\r\n",
        "# primero con las peliculas\r\n",
        "peliculas = pd.read_csv(dir_movies)\r\n",
        "# aprovechamos de cambiarle los nobmres a las columnas\r\n",
        "peliculas.columns = [\"peliculaId\", \"titulo\", \"generos\"]\r\n",
        "# y de setear la columna de peliculasId como indice\r\n",
        "peliculas = peliculas.set_index(\"peliculaId\")\r\n",
        "\r\n",
        "# ahora con los ratings\r\n",
        "notas = pd.read_csv(dir_ratings)\r\n",
        "# aprovechamos de cambiarle los nobmres a las columnas\r\n",
        "notas.columns = [\"usuarioId\", \"peliculaId\", \"nota\", \"momento\"]"
      ],
      "execution_count": 4,
      "outputs": []
    },
    {
      "cell_type": "markdown",
      "metadata": {
        "id": "Y4Hjf5Ap36Hh"
      },
      "source": [
        "Podemos invocar a la variable para que se muestren los datos.\r\n",
        "\r\n",
        "Primero invocamos el dataframe `peliculas`, en donde se pueden ver las columnas \"peliculaId\", \"titulo\" y \"generos\". Siendo la columna de \"peliculaId\" el indice de los datos."
      ]
    },
    {
      "cell_type": "code",
      "metadata": {
        "colab": {
          "base_uri": "https://localhost:8080/",
          "height": 455
        },
        "id": "fTlFmofAbPFC",
        "outputId": "9eb1752d-fa48-4364-cd55-b2b643b776af"
      },
      "source": [
        "peliculas   #tambien puedes usar peliculas.head(n) con n el numero de datos que quieres ver"
      ],
      "execution_count": 6,
      "outputs": [
        {
          "output_type": "execute_result",
          "data": {
            "text/html": [
              "<div>\n",
              "<style scoped>\n",
              "    .dataframe tbody tr th:only-of-type {\n",
              "        vertical-align: middle;\n",
              "    }\n",
              "\n",
              "    .dataframe tbody tr th {\n",
              "        vertical-align: top;\n",
              "    }\n",
              "\n",
              "    .dataframe thead th {\n",
              "        text-align: right;\n",
              "    }\n",
              "</style>\n",
              "<table border=\"1\" class=\"dataframe\">\n",
              "  <thead>\n",
              "    <tr style=\"text-align: right;\">\n",
              "      <th></th>\n",
              "      <th>titulo</th>\n",
              "      <th>generos</th>\n",
              "    </tr>\n",
              "    <tr>\n",
              "      <th>peliculaId</th>\n",
              "      <th></th>\n",
              "      <th></th>\n",
              "    </tr>\n",
              "  </thead>\n",
              "  <tbody>\n",
              "    <tr>\n",
              "      <th>1</th>\n",
              "      <td>Toy Story (1995)</td>\n",
              "      <td>Adventure|Animation|Children|Comedy|Fantasy</td>\n",
              "    </tr>\n",
              "    <tr>\n",
              "      <th>2</th>\n",
              "      <td>Jumanji (1995)</td>\n",
              "      <td>Adventure|Children|Fantasy</td>\n",
              "    </tr>\n",
              "    <tr>\n",
              "      <th>3</th>\n",
              "      <td>Grumpier Old Men (1995)</td>\n",
              "      <td>Comedy|Romance</td>\n",
              "    </tr>\n",
              "    <tr>\n",
              "      <th>4</th>\n",
              "      <td>Waiting to Exhale (1995)</td>\n",
              "      <td>Comedy|Drama|Romance</td>\n",
              "    </tr>\n",
              "    <tr>\n",
              "      <th>5</th>\n",
              "      <td>Father of the Bride Part II (1995)</td>\n",
              "      <td>Comedy</td>\n",
              "    </tr>\n",
              "    <tr>\n",
              "      <th>...</th>\n",
              "      <td>...</td>\n",
              "      <td>...</td>\n",
              "    </tr>\n",
              "    <tr>\n",
              "      <th>193581</th>\n",
              "      <td>Black Butler: Book of the Atlantic (2017)</td>\n",
              "      <td>Action|Animation|Comedy|Fantasy</td>\n",
              "    </tr>\n",
              "    <tr>\n",
              "      <th>193583</th>\n",
              "      <td>No Game No Life: Zero (2017)</td>\n",
              "      <td>Animation|Comedy|Fantasy</td>\n",
              "    </tr>\n",
              "    <tr>\n",
              "      <th>193585</th>\n",
              "      <td>Flint (2017)</td>\n",
              "      <td>Drama</td>\n",
              "    </tr>\n",
              "    <tr>\n",
              "      <th>193587</th>\n",
              "      <td>Bungo Stray Dogs: Dead Apple (2018)</td>\n",
              "      <td>Action|Animation</td>\n",
              "    </tr>\n",
              "    <tr>\n",
              "      <th>193609</th>\n",
              "      <td>Andrew Dice Clay: Dice Rules (1991)</td>\n",
              "      <td>Comedy</td>\n",
              "    </tr>\n",
              "  </tbody>\n",
              "</table>\n",
              "<p>9742 rows × 2 columns</p>\n",
              "</div>"
            ],
            "text/plain": [
              "                                               titulo                                      generos\n",
              "peliculaId                                                                                        \n",
              "1                                    Toy Story (1995)  Adventure|Animation|Children|Comedy|Fantasy\n",
              "2                                      Jumanji (1995)                   Adventure|Children|Fantasy\n",
              "3                             Grumpier Old Men (1995)                               Comedy|Romance\n",
              "4                            Waiting to Exhale (1995)                         Comedy|Drama|Romance\n",
              "5                  Father of the Bride Part II (1995)                                       Comedy\n",
              "...                                               ...                                          ...\n",
              "193581      Black Butler: Book of the Atlantic (2017)              Action|Animation|Comedy|Fantasy\n",
              "193583                   No Game No Life: Zero (2017)                     Animation|Comedy|Fantasy\n",
              "193585                                   Flint (2017)                                        Drama\n",
              "193587            Bungo Stray Dogs: Dead Apple (2018)                             Action|Animation\n",
              "193609            Andrew Dice Clay: Dice Rules (1991)                                       Comedy\n",
              "\n",
              "[9742 rows x 2 columns]"
            ]
          },
          "metadata": {
            "tags": []
          },
          "execution_count": 6
        }
      ]
    },
    {
      "cell_type": "markdown",
      "metadata": {
        "id": "0Vtf7sfV4tl6"
      },
      "source": [
        "Invocamos al dataframe `notas`, notamos que el indice en este caso no corresponde a \"peliculaId\" y tampoco nos conviene que sea, ya que distintos usuarios le han puesto nota a una misma pelicula, por lo que si pusieramos como indice a las peliculas, tendriamos que se repiten varias veces."
      ]
    },
    {
      "cell_type": "code",
      "metadata": {
        "colab": {
          "base_uri": "https://localhost:8080/",
          "height": 424
        },
        "id": "XvaErTDXWxr6",
        "outputId": "f53457a4-6308-4792-a757-8862fade98a5"
      },
      "source": [
        "notas"
      ],
      "execution_count": 7,
      "outputs": [
        {
          "output_type": "execute_result",
          "data": {
            "text/html": [
              "<div>\n",
              "<style scoped>\n",
              "    .dataframe tbody tr th:only-of-type {\n",
              "        vertical-align: middle;\n",
              "    }\n",
              "\n",
              "    .dataframe tbody tr th {\n",
              "        vertical-align: top;\n",
              "    }\n",
              "\n",
              "    .dataframe thead th {\n",
              "        text-align: right;\n",
              "    }\n",
              "</style>\n",
              "<table border=\"1\" class=\"dataframe\">\n",
              "  <thead>\n",
              "    <tr style=\"text-align: right;\">\n",
              "      <th></th>\n",
              "      <th>usuarioId</th>\n",
              "      <th>peliculaId</th>\n",
              "      <th>nota</th>\n",
              "      <th>momento</th>\n",
              "    </tr>\n",
              "  </thead>\n",
              "  <tbody>\n",
              "    <tr>\n",
              "      <th>0</th>\n",
              "      <td>1</td>\n",
              "      <td>1</td>\n",
              "      <td>4.0</td>\n",
              "      <td>964982703</td>\n",
              "    </tr>\n",
              "    <tr>\n",
              "      <th>1</th>\n",
              "      <td>1</td>\n",
              "      <td>3</td>\n",
              "      <td>4.0</td>\n",
              "      <td>964981247</td>\n",
              "    </tr>\n",
              "    <tr>\n",
              "      <th>2</th>\n",
              "      <td>1</td>\n",
              "      <td>6</td>\n",
              "      <td>4.0</td>\n",
              "      <td>964982224</td>\n",
              "    </tr>\n",
              "    <tr>\n",
              "      <th>3</th>\n",
              "      <td>1</td>\n",
              "      <td>47</td>\n",
              "      <td>5.0</td>\n",
              "      <td>964983815</td>\n",
              "    </tr>\n",
              "    <tr>\n",
              "      <th>4</th>\n",
              "      <td>1</td>\n",
              "      <td>50</td>\n",
              "      <td>5.0</td>\n",
              "      <td>964982931</td>\n",
              "    </tr>\n",
              "    <tr>\n",
              "      <th>...</th>\n",
              "      <td>...</td>\n",
              "      <td>...</td>\n",
              "      <td>...</td>\n",
              "      <td>...</td>\n",
              "    </tr>\n",
              "    <tr>\n",
              "      <th>100831</th>\n",
              "      <td>610</td>\n",
              "      <td>166534</td>\n",
              "      <td>4.0</td>\n",
              "      <td>1493848402</td>\n",
              "    </tr>\n",
              "    <tr>\n",
              "      <th>100832</th>\n",
              "      <td>610</td>\n",
              "      <td>168248</td>\n",
              "      <td>5.0</td>\n",
              "      <td>1493850091</td>\n",
              "    </tr>\n",
              "    <tr>\n",
              "      <th>100833</th>\n",
              "      <td>610</td>\n",
              "      <td>168250</td>\n",
              "      <td>5.0</td>\n",
              "      <td>1494273047</td>\n",
              "    </tr>\n",
              "    <tr>\n",
              "      <th>100834</th>\n",
              "      <td>610</td>\n",
              "      <td>168252</td>\n",
              "      <td>5.0</td>\n",
              "      <td>1493846352</td>\n",
              "    </tr>\n",
              "    <tr>\n",
              "      <th>100835</th>\n",
              "      <td>610</td>\n",
              "      <td>170875</td>\n",
              "      <td>3.0</td>\n",
              "      <td>1493846415</td>\n",
              "    </tr>\n",
              "  </tbody>\n",
              "</table>\n",
              "<p>100836 rows × 4 columns</p>\n",
              "</div>"
            ],
            "text/plain": [
              "        usuarioId  peliculaId  nota     momento\n",
              "0               1           1   4.0   964982703\n",
              "1               1           3   4.0   964981247\n",
              "2               1           6   4.0   964982224\n",
              "3               1          47   5.0   964983815\n",
              "4               1          50   5.0   964982931\n",
              "...           ...         ...   ...         ...\n",
              "100831        610      166534   4.0  1493848402\n",
              "100832        610      168248   5.0  1493850091\n",
              "100833        610      168250   5.0  1494273047\n",
              "100834        610      168252   5.0  1493846352\n",
              "100835        610      170875   3.0  1493846415\n",
              "\n",
              "[100836 rows x 4 columns]"
            ]
          },
          "metadata": {
            "tags": []
          },
          "execution_count": 7
        }
      ]
    },
    {
      "cell_type": "markdown",
      "metadata": {
        "id": "a9cyouBn6OoW"
      },
      "source": [
        "Tambien podemos pedir una descripcion de los datos."
      ]
    },
    {
      "cell_type": "code",
      "metadata": {
        "colab": {
          "base_uri": "https://localhost:8080/",
          "height": 300
        },
        "id": "DoKw3kONWzlT",
        "outputId": "38592e92-525e-4b5b-e9ed-2a8fe5ad52ff"
      },
      "source": [
        "notas.describe()"
      ],
      "execution_count": 9,
      "outputs": [
        {
          "output_type": "execute_result",
          "data": {
            "text/html": [
              "<div>\n",
              "<style scoped>\n",
              "    .dataframe tbody tr th:only-of-type {\n",
              "        vertical-align: middle;\n",
              "    }\n",
              "\n",
              "    .dataframe tbody tr th {\n",
              "        vertical-align: top;\n",
              "    }\n",
              "\n",
              "    .dataframe thead th {\n",
              "        text-align: right;\n",
              "    }\n",
              "</style>\n",
              "<table border=\"1\" class=\"dataframe\">\n",
              "  <thead>\n",
              "    <tr style=\"text-align: right;\">\n",
              "      <th></th>\n",
              "      <th>usuarioId</th>\n",
              "      <th>peliculaId</th>\n",
              "      <th>nota</th>\n",
              "      <th>momento</th>\n",
              "    </tr>\n",
              "  </thead>\n",
              "  <tbody>\n",
              "    <tr>\n",
              "      <th>count</th>\n",
              "      <td>100836.000000</td>\n",
              "      <td>100836.000000</td>\n",
              "      <td>100836.000000</td>\n",
              "      <td>1.008360e+05</td>\n",
              "    </tr>\n",
              "    <tr>\n",
              "      <th>mean</th>\n",
              "      <td>326.127564</td>\n",
              "      <td>19435.295718</td>\n",
              "      <td>3.501557</td>\n",
              "      <td>1.205946e+09</td>\n",
              "    </tr>\n",
              "    <tr>\n",
              "      <th>std</th>\n",
              "      <td>182.618491</td>\n",
              "      <td>35530.987199</td>\n",
              "      <td>1.042529</td>\n",
              "      <td>2.162610e+08</td>\n",
              "    </tr>\n",
              "    <tr>\n",
              "      <th>min</th>\n",
              "      <td>1.000000</td>\n",
              "      <td>1.000000</td>\n",
              "      <td>0.500000</td>\n",
              "      <td>8.281246e+08</td>\n",
              "    </tr>\n",
              "    <tr>\n",
              "      <th>25%</th>\n",
              "      <td>177.000000</td>\n",
              "      <td>1199.000000</td>\n",
              "      <td>3.000000</td>\n",
              "      <td>1.019124e+09</td>\n",
              "    </tr>\n",
              "    <tr>\n",
              "      <th>50%</th>\n",
              "      <td>325.000000</td>\n",
              "      <td>2991.000000</td>\n",
              "      <td>3.500000</td>\n",
              "      <td>1.186087e+09</td>\n",
              "    </tr>\n",
              "    <tr>\n",
              "      <th>75%</th>\n",
              "      <td>477.000000</td>\n",
              "      <td>8122.000000</td>\n",
              "      <td>4.000000</td>\n",
              "      <td>1.435994e+09</td>\n",
              "    </tr>\n",
              "    <tr>\n",
              "      <th>max</th>\n",
              "      <td>610.000000</td>\n",
              "      <td>193609.000000</td>\n",
              "      <td>5.000000</td>\n",
              "      <td>1.537799e+09</td>\n",
              "    </tr>\n",
              "  </tbody>\n",
              "</table>\n",
              "</div>"
            ],
            "text/plain": [
              "           usuarioId     peliculaId           nota       momento\n",
              "count  100836.000000  100836.000000  100836.000000  1.008360e+05\n",
              "mean      326.127564   19435.295718       3.501557  1.205946e+09\n",
              "std       182.618491   35530.987199       1.042529  2.162610e+08\n",
              "min         1.000000       1.000000       0.500000  8.281246e+08\n",
              "25%       177.000000    1199.000000       3.000000  1.019124e+09\n",
              "50%       325.000000    2991.000000       3.500000  1.186087e+09\n",
              "75%       477.000000    8122.000000       4.000000  1.435994e+09\n",
              "max       610.000000  193609.000000       5.000000  1.537799e+09"
            ]
          },
          "metadata": {
            "tags": []
          },
          "execution_count": 9
        }
      ]
    },
    {
      "cell_type": "markdown",
      "metadata": {
        "id": "txbwCtB46VfG"
      },
      "source": [
        "En esto ultimo podemos notar que la nota promedio es un 3.5 y que solo un 25% de los ratings corresponde a una nota menor a tres, podemos ignorar los resultados de \"usuarioId\" y \"peliculaId\" ya que son identificadores y a \"momento\" puesto que no lo usaremos."
      ]
    },
    {
      "cell_type": "markdown",
      "metadata": {
        "id": "9IkKFNoKZ8rf"
      },
      "source": [
        "# 1era Heurística de Recomendacion: Ranking de popularidad\r\n",
        "Ahora, ¿Como recomiendo peliculas?, si no conozco al usuario lo mas facil es recomendar lo que es mas popular, pero si se habran dado cuenta, los datos que estamos usando no cuentan con un total de visitas. Pero sabemos las peliculas a las cuales cada usuario le dejo una calificacion, con esto podemos contar cuantas calificaciones recibio cada pelicula. Y asumiremos que entre mas calificaciones mas popular es una pelicula. Esto ultimo puede ser completamente falso, pero es una asuncion que nos lleva a una solucion."
      ]
    },
    {
      "cell_type": "code",
      "metadata": {
        "colab": {
          "base_uri": "https://localhost:8080/",
          "height": 424
        },
        "id": "jN_R3PgPW2EE",
        "outputId": "23aeb620-5e67-4e65-bfa0-f9f17e01eca6"
      },
      "source": [
        "# contamos cuantas notas le dejaron a cada pelicula\r\n",
        "total_de_votos = notas[\"peliculaId\"].value_counts()\r\n",
        "total_de_votos = total_de_votos.to_frame(\"total_de_votos\")\r\n",
        "total_de_votos"
      ],
      "execution_count": 11,
      "outputs": [
        {
          "output_type": "execute_result",
          "data": {
            "text/html": [
              "<div>\n",
              "<style scoped>\n",
              "    .dataframe tbody tr th:only-of-type {\n",
              "        vertical-align: middle;\n",
              "    }\n",
              "\n",
              "    .dataframe tbody tr th {\n",
              "        vertical-align: top;\n",
              "    }\n",
              "\n",
              "    .dataframe thead th {\n",
              "        text-align: right;\n",
              "    }\n",
              "</style>\n",
              "<table border=\"1\" class=\"dataframe\">\n",
              "  <thead>\n",
              "    <tr style=\"text-align: right;\">\n",
              "      <th></th>\n",
              "      <th>total_de_votos</th>\n",
              "    </tr>\n",
              "  </thead>\n",
              "  <tbody>\n",
              "    <tr>\n",
              "      <th>356</th>\n",
              "      <td>329</td>\n",
              "    </tr>\n",
              "    <tr>\n",
              "      <th>318</th>\n",
              "      <td>317</td>\n",
              "    </tr>\n",
              "    <tr>\n",
              "      <th>296</th>\n",
              "      <td>307</td>\n",
              "    </tr>\n",
              "    <tr>\n",
              "      <th>593</th>\n",
              "      <td>279</td>\n",
              "    </tr>\n",
              "    <tr>\n",
              "      <th>2571</th>\n",
              "      <td>278</td>\n",
              "    </tr>\n",
              "    <tr>\n",
              "      <th>...</th>\n",
              "      <td>...</td>\n",
              "    </tr>\n",
              "    <tr>\n",
              "      <th>5986</th>\n",
              "      <td>1</td>\n",
              "    </tr>\n",
              "    <tr>\n",
              "      <th>100304</th>\n",
              "      <td>1</td>\n",
              "    </tr>\n",
              "    <tr>\n",
              "      <th>34800</th>\n",
              "      <td>1</td>\n",
              "    </tr>\n",
              "    <tr>\n",
              "      <th>83976</th>\n",
              "      <td>1</td>\n",
              "    </tr>\n",
              "    <tr>\n",
              "      <th>8196</th>\n",
              "      <td>1</td>\n",
              "    </tr>\n",
              "  </tbody>\n",
              "</table>\n",
              "<p>9724 rows × 1 columns</p>\n",
              "</div>"
            ],
            "text/plain": [
              "        total_de_votos\n",
              "356                329\n",
              "318                317\n",
              "296                307\n",
              "593                279\n",
              "2571               278\n",
              "...                ...\n",
              "5986                 1\n",
              "100304               1\n",
              "34800                1\n",
              "83976                1\n",
              "8196                 1\n",
              "\n",
              "[9724 rows x 1 columns]"
            ]
          },
          "metadata": {
            "tags": []
          },
          "execution_count": 11
        }
      ]
    },
    {
      "cell_type": "markdown",
      "metadata": {
        "id": "Bbd-Uqhw-__t"
      },
      "source": [
        "Notamos que los indices son los \"peliculaId\" y que la cantidad de filas(9724) es igual al del dataframe peliculas. Con esto podemos agregar el total de votos en una columna nueva en el dataframe peliculas. "
      ]
    },
    {
      "cell_type": "code",
      "metadata": {
        "colab": {
          "base_uri": "https://localhost:8080/",
          "height": 455
        },
        "id": "lYw4e2EMW6bW",
        "outputId": "33927842-4527-43f2-94cd-c1e7622dcbe4"
      },
      "source": [
        "# agregamos total_de_votos en una nueva columna en peliculas\r\n",
        "peliculas['total_de_votos'] = total_de_votos\r\n",
        "peliculas"
      ],
      "execution_count": 13,
      "outputs": [
        {
          "output_type": "execute_result",
          "data": {
            "text/html": [
              "<div>\n",
              "<style scoped>\n",
              "    .dataframe tbody tr th:only-of-type {\n",
              "        vertical-align: middle;\n",
              "    }\n",
              "\n",
              "    .dataframe tbody tr th {\n",
              "        vertical-align: top;\n",
              "    }\n",
              "\n",
              "    .dataframe thead th {\n",
              "        text-align: right;\n",
              "    }\n",
              "</style>\n",
              "<table border=\"1\" class=\"dataframe\">\n",
              "  <thead>\n",
              "    <tr style=\"text-align: right;\">\n",
              "      <th></th>\n",
              "      <th>titulo</th>\n",
              "      <th>generos</th>\n",
              "      <th>total_de_votos</th>\n",
              "    </tr>\n",
              "    <tr>\n",
              "      <th>peliculaId</th>\n",
              "      <th></th>\n",
              "      <th></th>\n",
              "      <th></th>\n",
              "    </tr>\n",
              "  </thead>\n",
              "  <tbody>\n",
              "    <tr>\n",
              "      <th>1</th>\n",
              "      <td>Toy Story (1995)</td>\n",
              "      <td>Adventure|Animation|Children|Comedy|Fantasy</td>\n",
              "      <td>215.0</td>\n",
              "    </tr>\n",
              "    <tr>\n",
              "      <th>2</th>\n",
              "      <td>Jumanji (1995)</td>\n",
              "      <td>Adventure|Children|Fantasy</td>\n",
              "      <td>110.0</td>\n",
              "    </tr>\n",
              "    <tr>\n",
              "      <th>3</th>\n",
              "      <td>Grumpier Old Men (1995)</td>\n",
              "      <td>Comedy|Romance</td>\n",
              "      <td>52.0</td>\n",
              "    </tr>\n",
              "    <tr>\n",
              "      <th>4</th>\n",
              "      <td>Waiting to Exhale (1995)</td>\n",
              "      <td>Comedy|Drama|Romance</td>\n",
              "      <td>7.0</td>\n",
              "    </tr>\n",
              "    <tr>\n",
              "      <th>5</th>\n",
              "      <td>Father of the Bride Part II (1995)</td>\n",
              "      <td>Comedy</td>\n",
              "      <td>49.0</td>\n",
              "    </tr>\n",
              "    <tr>\n",
              "      <th>...</th>\n",
              "      <td>...</td>\n",
              "      <td>...</td>\n",
              "      <td>...</td>\n",
              "    </tr>\n",
              "    <tr>\n",
              "      <th>193581</th>\n",
              "      <td>Black Butler: Book of the Atlantic (2017)</td>\n",
              "      <td>Action|Animation|Comedy|Fantasy</td>\n",
              "      <td>1.0</td>\n",
              "    </tr>\n",
              "    <tr>\n",
              "      <th>193583</th>\n",
              "      <td>No Game No Life: Zero (2017)</td>\n",
              "      <td>Animation|Comedy|Fantasy</td>\n",
              "      <td>1.0</td>\n",
              "    </tr>\n",
              "    <tr>\n",
              "      <th>193585</th>\n",
              "      <td>Flint (2017)</td>\n",
              "      <td>Drama</td>\n",
              "      <td>1.0</td>\n",
              "    </tr>\n",
              "    <tr>\n",
              "      <th>193587</th>\n",
              "      <td>Bungo Stray Dogs: Dead Apple (2018)</td>\n",
              "      <td>Action|Animation</td>\n",
              "      <td>1.0</td>\n",
              "    </tr>\n",
              "    <tr>\n",
              "      <th>193609</th>\n",
              "      <td>Andrew Dice Clay: Dice Rules (1991)</td>\n",
              "      <td>Comedy</td>\n",
              "      <td>1.0</td>\n",
              "    </tr>\n",
              "  </tbody>\n",
              "</table>\n",
              "<p>9742 rows × 3 columns</p>\n",
              "</div>"
            ],
            "text/plain": [
              "                                               titulo  ... total_de_votos\n",
              "peliculaId                                             ...               \n",
              "1                                    Toy Story (1995)  ...          215.0\n",
              "2                                      Jumanji (1995)  ...          110.0\n",
              "3                             Grumpier Old Men (1995)  ...           52.0\n",
              "4                            Waiting to Exhale (1995)  ...            7.0\n",
              "5                  Father of the Bride Part II (1995)  ...           49.0\n",
              "...                                               ...  ...            ...\n",
              "193581      Black Butler: Book of the Atlantic (2017)  ...            1.0\n",
              "193583                   No Game No Life: Zero (2017)  ...            1.0\n",
              "193585                                   Flint (2017)  ...            1.0\n",
              "193587            Bungo Stray Dogs: Dead Apple (2018)  ...            1.0\n",
              "193609            Andrew Dice Clay: Dice Rules (1991)  ...            1.0\n",
              "\n",
              "[9742 rows x 3 columns]"
            ]
          },
          "metadata": {
            "tags": []
          },
          "execution_count": 13
        }
      ]
    },
    {
      "cell_type": "markdown",
      "metadata": {
        "id": "ikTLK_bNSnJF"
      },
      "source": [
        "Con esto ya podemos ordenar de manera descendente, para tener el top 10 de peliculas mas vistas."
      ]
    },
    {
      "cell_type": "code",
      "metadata": {
        "id": "WEPmkF-7FoPL",
        "colab": {
          "base_uri": "https://localhost:8080/",
          "height": 394
        },
        "outputId": "bb4e91f3-5da3-444d-bf69-557f31e050d3"
      },
      "source": [
        "# pedimos que primero las ordene y luego que nos muestre las N primeras\r\n",
        "N = 10 # se puede cambiar\r\n",
        "peliculas.sort_values(\"total_de_votos\", ascending = False).head(N)"
      ],
      "execution_count": 20,
      "outputs": [
        {
          "output_type": "execute_result",
          "data": {
            "text/html": [
              "<div>\n",
              "<style scoped>\n",
              "    .dataframe tbody tr th:only-of-type {\n",
              "        vertical-align: middle;\n",
              "    }\n",
              "\n",
              "    .dataframe tbody tr th {\n",
              "        vertical-align: top;\n",
              "    }\n",
              "\n",
              "    .dataframe thead th {\n",
              "        text-align: right;\n",
              "    }\n",
              "</style>\n",
              "<table border=\"1\" class=\"dataframe\">\n",
              "  <thead>\n",
              "    <tr style=\"text-align: right;\">\n",
              "      <th></th>\n",
              "      <th>titulo</th>\n",
              "      <th>generos</th>\n",
              "      <th>total_de_votos</th>\n",
              "    </tr>\n",
              "    <tr>\n",
              "      <th>peliculaId</th>\n",
              "      <th></th>\n",
              "      <th></th>\n",
              "      <th></th>\n",
              "    </tr>\n",
              "  </thead>\n",
              "  <tbody>\n",
              "    <tr>\n",
              "      <th>356</th>\n",
              "      <td>Forrest Gump (1994)</td>\n",
              "      <td>Comedy|Drama|Romance|War</td>\n",
              "      <td>329.0</td>\n",
              "    </tr>\n",
              "    <tr>\n",
              "      <th>318</th>\n",
              "      <td>Shawshank Redemption, The (1994)</td>\n",
              "      <td>Crime|Drama</td>\n",
              "      <td>317.0</td>\n",
              "    </tr>\n",
              "    <tr>\n",
              "      <th>296</th>\n",
              "      <td>Pulp Fiction (1994)</td>\n",
              "      <td>Comedy|Crime|Drama|Thriller</td>\n",
              "      <td>307.0</td>\n",
              "    </tr>\n",
              "    <tr>\n",
              "      <th>593</th>\n",
              "      <td>Silence of the Lambs, The (1991)</td>\n",
              "      <td>Crime|Horror|Thriller</td>\n",
              "      <td>279.0</td>\n",
              "    </tr>\n",
              "    <tr>\n",
              "      <th>2571</th>\n",
              "      <td>Matrix, The (1999)</td>\n",
              "      <td>Action|Sci-Fi|Thriller</td>\n",
              "      <td>278.0</td>\n",
              "    </tr>\n",
              "    <tr>\n",
              "      <th>260</th>\n",
              "      <td>Star Wars: Episode IV - A New Hope (1977)</td>\n",
              "      <td>Action|Adventure|Sci-Fi</td>\n",
              "      <td>251.0</td>\n",
              "    </tr>\n",
              "    <tr>\n",
              "      <th>480</th>\n",
              "      <td>Jurassic Park (1993)</td>\n",
              "      <td>Action|Adventure|Sci-Fi|Thriller</td>\n",
              "      <td>238.0</td>\n",
              "    </tr>\n",
              "    <tr>\n",
              "      <th>110</th>\n",
              "      <td>Braveheart (1995)</td>\n",
              "      <td>Action|Drama|War</td>\n",
              "      <td>237.0</td>\n",
              "    </tr>\n",
              "    <tr>\n",
              "      <th>589</th>\n",
              "      <td>Terminator 2: Judgment Day (1991)</td>\n",
              "      <td>Action|Sci-Fi</td>\n",
              "      <td>224.0</td>\n",
              "    </tr>\n",
              "    <tr>\n",
              "      <th>527</th>\n",
              "      <td>Schindler's List (1993)</td>\n",
              "      <td>Drama|War</td>\n",
              "      <td>220.0</td>\n",
              "    </tr>\n",
              "  </tbody>\n",
              "</table>\n",
              "</div>"
            ],
            "text/plain": [
              "                                               titulo  ... total_de_votos\n",
              "peliculaId                                             ...               \n",
              "356                               Forrest Gump (1994)  ...          329.0\n",
              "318                  Shawshank Redemption, The (1994)  ...          317.0\n",
              "296                               Pulp Fiction (1994)  ...          307.0\n",
              "593                  Silence of the Lambs, The (1991)  ...          279.0\n",
              "2571                               Matrix, The (1999)  ...          278.0\n",
              "260         Star Wars: Episode IV - A New Hope (1977)  ...          251.0\n",
              "480                              Jurassic Park (1993)  ...          238.0\n",
              "110                                 Braveheart (1995)  ...          237.0\n",
              "589                 Terminator 2: Judgment Day (1991)  ...          224.0\n",
              "527                           Schindler's List (1993)  ...          220.0\n",
              "\n",
              "[10 rows x 3 columns]"
            ]
          },
          "metadata": {
            "tags": []
          },
          "execution_count": 20
        }
      ]
    },
    {
      "cell_type": "markdown",
      "metadata": {
        "id": "vs8CjBfkUPGI"
      },
      "source": [
        "Con esto ya tenemos una lista con peliculas a recomendar, mision cumplida!!"
      ]
    },
    {
      "cell_type": "markdown",
      "metadata": {
        "id": "nBnjrEnvUiTo"
      },
      "source": [
        "# 2era Heurística de Recomendacion: Ranking de mejor evaluadas\r\n",
        "Que una pelicula sea popular no nos dice si es buena o no, tal vez haya alguna que sea popular pero que sus calificaciones promedio sean bajas o al reves. \r\n",
        "\r\n",
        "Entonces en este caso vamos a promediar las calificaciones de cada pelicula y lo agregaremos al dataset peliculas, al igual que con la 1era heurística."
      ]
    },
    {
      "cell_type": "code",
      "metadata": {
        "colab": {
          "base_uri": "https://localhost:8080/",
          "height": 455
        },
        "id": "X8nmp6J_S13a",
        "outputId": "01c3830c-ade6-4d5b-cf5b-f938922a34f0"
      },
      "source": [
        "# agrupamos los datos por peliculaId luego se promedian y \r\n",
        "# nos quedamos solo con la columna nota\r\n",
        "nota_promedio = notas.groupby(\"peliculaId\") #<- se agrupan los datos por peliculaId\r\n",
        "nota_promedio = nota_promedio.mean() #<- promediamos estos grupos\r\n",
        "nota_promedio = nota_promedio[\"nota\"] #<- nos quedamos solo con la columna nota\r\n",
        "nota_promedio = nota_promedio.to_frame(\"nota_promedio\")\r\n",
        "nota_promedio"
      ],
      "execution_count": 29,
      "outputs": [
        {
          "output_type": "execute_result",
          "data": {
            "text/html": [
              "<div>\n",
              "<style scoped>\n",
              "    .dataframe tbody tr th:only-of-type {\n",
              "        vertical-align: middle;\n",
              "    }\n",
              "\n",
              "    .dataframe tbody tr th {\n",
              "        vertical-align: top;\n",
              "    }\n",
              "\n",
              "    .dataframe thead th {\n",
              "        text-align: right;\n",
              "    }\n",
              "</style>\n",
              "<table border=\"1\" class=\"dataframe\">\n",
              "  <thead>\n",
              "    <tr style=\"text-align: right;\">\n",
              "      <th></th>\n",
              "      <th>nota_promedio</th>\n",
              "    </tr>\n",
              "    <tr>\n",
              "      <th>peliculaId</th>\n",
              "      <th></th>\n",
              "    </tr>\n",
              "  </thead>\n",
              "  <tbody>\n",
              "    <tr>\n",
              "      <th>1</th>\n",
              "      <td>3.920930</td>\n",
              "    </tr>\n",
              "    <tr>\n",
              "      <th>2</th>\n",
              "      <td>3.431818</td>\n",
              "    </tr>\n",
              "    <tr>\n",
              "      <th>3</th>\n",
              "      <td>3.259615</td>\n",
              "    </tr>\n",
              "    <tr>\n",
              "      <th>4</th>\n",
              "      <td>2.357143</td>\n",
              "    </tr>\n",
              "    <tr>\n",
              "      <th>5</th>\n",
              "      <td>3.071429</td>\n",
              "    </tr>\n",
              "    <tr>\n",
              "      <th>...</th>\n",
              "      <td>...</td>\n",
              "    </tr>\n",
              "    <tr>\n",
              "      <th>193581</th>\n",
              "      <td>4.000000</td>\n",
              "    </tr>\n",
              "    <tr>\n",
              "      <th>193583</th>\n",
              "      <td>3.500000</td>\n",
              "    </tr>\n",
              "    <tr>\n",
              "      <th>193585</th>\n",
              "      <td>3.500000</td>\n",
              "    </tr>\n",
              "    <tr>\n",
              "      <th>193587</th>\n",
              "      <td>3.500000</td>\n",
              "    </tr>\n",
              "    <tr>\n",
              "      <th>193609</th>\n",
              "      <td>4.000000</td>\n",
              "    </tr>\n",
              "  </tbody>\n",
              "</table>\n",
              "<p>9724 rows × 1 columns</p>\n",
              "</div>"
            ],
            "text/plain": [
              "            nota_promedio\n",
              "peliculaId               \n",
              "1                3.920930\n",
              "2                3.431818\n",
              "3                3.259615\n",
              "4                2.357143\n",
              "5                3.071429\n",
              "...                   ...\n",
              "193581           4.000000\n",
              "193583           3.500000\n",
              "193585           3.500000\n",
              "193587           3.500000\n",
              "193609           4.000000\n",
              "\n",
              "[9724 rows x 1 columns]"
            ]
          },
          "metadata": {
            "tags": []
          },
          "execution_count": 29
        }
      ]
    },
    {
      "cell_type": "markdown",
      "metadata": {
        "id": "8ANXeLaKvUot"
      },
      "source": [
        "Ahora tenemos las calificaciones promedios para cada pelicula y podemos agregarlo al dataset pelicula.\r\n",
        "\r\n",
        "Pero antes, notamos que la celda anterior podia haberse reducido a dos lineas, como se muestra a continuacion."
      ]
    },
    {
      "cell_type": "code",
      "metadata": {
        "colab": {
          "base_uri": "https://localhost:8080/",
          "height": 455
        },
        "id": "to-GVf5ktFxI",
        "outputId": "d5a97924-eb67-4194-8068-372ac482e4c4"
      },
      "source": [
        "# es el mismo procedimiento solo que lo hacemos todo a la vez\r\n",
        "nota_promedio = notas.groupby(\"peliculaId\").mean()[\"nota\"].to_frame(\"nota_promedio\")\r\n",
        "nota_promedio"
      ],
      "execution_count": 30,
      "outputs": [
        {
          "output_type": "execute_result",
          "data": {
            "text/html": [
              "<div>\n",
              "<style scoped>\n",
              "    .dataframe tbody tr th:only-of-type {\n",
              "        vertical-align: middle;\n",
              "    }\n",
              "\n",
              "    .dataframe tbody tr th {\n",
              "        vertical-align: top;\n",
              "    }\n",
              "\n",
              "    .dataframe thead th {\n",
              "        text-align: right;\n",
              "    }\n",
              "</style>\n",
              "<table border=\"1\" class=\"dataframe\">\n",
              "  <thead>\n",
              "    <tr style=\"text-align: right;\">\n",
              "      <th></th>\n",
              "      <th>nota_promedio</th>\n",
              "    </tr>\n",
              "    <tr>\n",
              "      <th>peliculaId</th>\n",
              "      <th></th>\n",
              "    </tr>\n",
              "  </thead>\n",
              "  <tbody>\n",
              "    <tr>\n",
              "      <th>1</th>\n",
              "      <td>3.920930</td>\n",
              "    </tr>\n",
              "    <tr>\n",
              "      <th>2</th>\n",
              "      <td>3.431818</td>\n",
              "    </tr>\n",
              "    <tr>\n",
              "      <th>3</th>\n",
              "      <td>3.259615</td>\n",
              "    </tr>\n",
              "    <tr>\n",
              "      <th>4</th>\n",
              "      <td>2.357143</td>\n",
              "    </tr>\n",
              "    <tr>\n",
              "      <th>5</th>\n",
              "      <td>3.071429</td>\n",
              "    </tr>\n",
              "    <tr>\n",
              "      <th>...</th>\n",
              "      <td>...</td>\n",
              "    </tr>\n",
              "    <tr>\n",
              "      <th>193581</th>\n",
              "      <td>4.000000</td>\n",
              "    </tr>\n",
              "    <tr>\n",
              "      <th>193583</th>\n",
              "      <td>3.500000</td>\n",
              "    </tr>\n",
              "    <tr>\n",
              "      <th>193585</th>\n",
              "      <td>3.500000</td>\n",
              "    </tr>\n",
              "    <tr>\n",
              "      <th>193587</th>\n",
              "      <td>3.500000</td>\n",
              "    </tr>\n",
              "    <tr>\n",
              "      <th>193609</th>\n",
              "      <td>4.000000</td>\n",
              "    </tr>\n",
              "  </tbody>\n",
              "</table>\n",
              "<p>9724 rows × 1 columns</p>\n",
              "</div>"
            ],
            "text/plain": [
              "            nota_promedio\n",
              "peliculaId               \n",
              "1                3.920930\n",
              "2                3.431818\n",
              "3                3.259615\n",
              "4                2.357143\n",
              "5                3.071429\n",
              "...                   ...\n",
              "193581           4.000000\n",
              "193583           3.500000\n",
              "193585           3.500000\n",
              "193587           3.500000\n",
              "193609           4.000000\n",
              "\n",
              "[9724 rows x 1 columns]"
            ]
          },
          "metadata": {
            "tags": []
          },
          "execution_count": 30
        }
      ]
    },
    {
      "cell_type": "markdown",
      "metadata": {
        "id": "iSv2HndUwI2S"
      },
      "source": [
        "Ahora si, agregamos la nota promedio al dataset."
      ]
    },
    {
      "cell_type": "code",
      "metadata": {
        "colab": {
          "base_uri": "https://localhost:8080/",
          "height": 455
        },
        "id": "-lnkfiPFwZFk",
        "outputId": "4583f3d8-f122-4aa4-dc6f-6943761d13ab"
      },
      "source": [
        "# agregamos total_de_votos en una nueva columna en peliculas\r\n",
        "peliculas['nota_promedio'] = nota_promedio\r\n",
        "peliculas"
      ],
      "execution_count": 31,
      "outputs": [
        {
          "output_type": "execute_result",
          "data": {
            "text/html": [
              "<div>\n",
              "<style scoped>\n",
              "    .dataframe tbody tr th:only-of-type {\n",
              "        vertical-align: middle;\n",
              "    }\n",
              "\n",
              "    .dataframe tbody tr th {\n",
              "        vertical-align: top;\n",
              "    }\n",
              "\n",
              "    .dataframe thead th {\n",
              "        text-align: right;\n",
              "    }\n",
              "</style>\n",
              "<table border=\"1\" class=\"dataframe\">\n",
              "  <thead>\n",
              "    <tr style=\"text-align: right;\">\n",
              "      <th></th>\n",
              "      <th>titulo</th>\n",
              "      <th>generos</th>\n",
              "      <th>total_de_votos</th>\n",
              "      <th>nota_promedio</th>\n",
              "    </tr>\n",
              "    <tr>\n",
              "      <th>peliculaId</th>\n",
              "      <th></th>\n",
              "      <th></th>\n",
              "      <th></th>\n",
              "      <th></th>\n",
              "    </tr>\n",
              "  </thead>\n",
              "  <tbody>\n",
              "    <tr>\n",
              "      <th>1</th>\n",
              "      <td>Toy Story (1995)</td>\n",
              "      <td>Adventure|Animation|Children|Comedy|Fantasy</td>\n",
              "      <td>215.0</td>\n",
              "      <td>3.920930</td>\n",
              "    </tr>\n",
              "    <tr>\n",
              "      <th>2</th>\n",
              "      <td>Jumanji (1995)</td>\n",
              "      <td>Adventure|Children|Fantasy</td>\n",
              "      <td>110.0</td>\n",
              "      <td>3.431818</td>\n",
              "    </tr>\n",
              "    <tr>\n",
              "      <th>3</th>\n",
              "      <td>Grumpier Old Men (1995)</td>\n",
              "      <td>Comedy|Romance</td>\n",
              "      <td>52.0</td>\n",
              "      <td>3.259615</td>\n",
              "    </tr>\n",
              "    <tr>\n",
              "      <th>4</th>\n",
              "      <td>Waiting to Exhale (1995)</td>\n",
              "      <td>Comedy|Drama|Romance</td>\n",
              "      <td>7.0</td>\n",
              "      <td>2.357143</td>\n",
              "    </tr>\n",
              "    <tr>\n",
              "      <th>5</th>\n",
              "      <td>Father of the Bride Part II (1995)</td>\n",
              "      <td>Comedy</td>\n",
              "      <td>49.0</td>\n",
              "      <td>3.071429</td>\n",
              "    </tr>\n",
              "    <tr>\n",
              "      <th>...</th>\n",
              "      <td>...</td>\n",
              "      <td>...</td>\n",
              "      <td>...</td>\n",
              "      <td>...</td>\n",
              "    </tr>\n",
              "    <tr>\n",
              "      <th>193581</th>\n",
              "      <td>Black Butler: Book of the Atlantic (2017)</td>\n",
              "      <td>Action|Animation|Comedy|Fantasy</td>\n",
              "      <td>1.0</td>\n",
              "      <td>4.000000</td>\n",
              "    </tr>\n",
              "    <tr>\n",
              "      <th>193583</th>\n",
              "      <td>No Game No Life: Zero (2017)</td>\n",
              "      <td>Animation|Comedy|Fantasy</td>\n",
              "      <td>1.0</td>\n",
              "      <td>3.500000</td>\n",
              "    </tr>\n",
              "    <tr>\n",
              "      <th>193585</th>\n",
              "      <td>Flint (2017)</td>\n",
              "      <td>Drama</td>\n",
              "      <td>1.0</td>\n",
              "      <td>3.500000</td>\n",
              "    </tr>\n",
              "    <tr>\n",
              "      <th>193587</th>\n",
              "      <td>Bungo Stray Dogs: Dead Apple (2018)</td>\n",
              "      <td>Action|Animation</td>\n",
              "      <td>1.0</td>\n",
              "      <td>3.500000</td>\n",
              "    </tr>\n",
              "    <tr>\n",
              "      <th>193609</th>\n",
              "      <td>Andrew Dice Clay: Dice Rules (1991)</td>\n",
              "      <td>Comedy</td>\n",
              "      <td>1.0</td>\n",
              "      <td>4.000000</td>\n",
              "    </tr>\n",
              "  </tbody>\n",
              "</table>\n",
              "<p>9742 rows × 4 columns</p>\n",
              "</div>"
            ],
            "text/plain": [
              "                                               titulo  ... nota_promedio\n",
              "peliculaId                                             ...              \n",
              "1                                    Toy Story (1995)  ...      3.920930\n",
              "2                                      Jumanji (1995)  ...      3.431818\n",
              "3                             Grumpier Old Men (1995)  ...      3.259615\n",
              "4                            Waiting to Exhale (1995)  ...      2.357143\n",
              "5                  Father of the Bride Part II (1995)  ...      3.071429\n",
              "...                                               ...  ...           ...\n",
              "193581      Black Butler: Book of the Atlantic (2017)  ...      4.000000\n",
              "193583                   No Game No Life: Zero (2017)  ...      3.500000\n",
              "193585                                   Flint (2017)  ...      3.500000\n",
              "193587            Bungo Stray Dogs: Dead Apple (2018)  ...      3.500000\n",
              "193609            Andrew Dice Clay: Dice Rules (1991)  ...      4.000000\n",
              "\n",
              "[9742 rows x 4 columns]"
            ]
          },
          "metadata": {
            "tags": []
          },
          "execution_count": 31
        }
      ]
    },
    {
      "cell_type": "markdown",
      "metadata": {
        "id": "LzbIK1KNw9DO"
      },
      "source": [
        "Con esto ya podemos ordenar de manera descendente, para tener el top 10 de peliculas mejor evaluadas."
      ]
    },
    {
      "cell_type": "code",
      "metadata": {
        "colab": {
          "base_uri": "https://localhost:8080/",
          "height": 394
        },
        "id": "NlfLDkTPxMQY",
        "outputId": "155fdb64-2896-4139-de19-61ec16088ece"
      },
      "source": [
        "# pedimos que primero las ordene y luego que nos muestre las N primeras\r\n",
        "N = 10 # se puede cambiar\r\n",
        "peliculas.sort_values(\"nota_promedio\", ascending = False).head(N)"
      ],
      "execution_count": 32,
      "outputs": [
        {
          "output_type": "execute_result",
          "data": {
            "text/html": [
              "<div>\n",
              "<style scoped>\n",
              "    .dataframe tbody tr th:only-of-type {\n",
              "        vertical-align: middle;\n",
              "    }\n",
              "\n",
              "    .dataframe tbody tr th {\n",
              "        vertical-align: top;\n",
              "    }\n",
              "\n",
              "    .dataframe thead th {\n",
              "        text-align: right;\n",
              "    }\n",
              "</style>\n",
              "<table border=\"1\" class=\"dataframe\">\n",
              "  <thead>\n",
              "    <tr style=\"text-align: right;\">\n",
              "      <th></th>\n",
              "      <th>titulo</th>\n",
              "      <th>generos</th>\n",
              "      <th>total_de_votos</th>\n",
              "      <th>nota_promedio</th>\n",
              "    </tr>\n",
              "    <tr>\n",
              "      <th>peliculaId</th>\n",
              "      <th></th>\n",
              "      <th></th>\n",
              "      <th></th>\n",
              "      <th></th>\n",
              "    </tr>\n",
              "  </thead>\n",
              "  <tbody>\n",
              "    <tr>\n",
              "      <th>88448</th>\n",
              "      <td>Paper Birds (Pájaros de papel) (2010)</td>\n",
              "      <td>Comedy|Drama</td>\n",
              "      <td>1.0</td>\n",
              "      <td>5.0</td>\n",
              "    </tr>\n",
              "    <tr>\n",
              "      <th>100556</th>\n",
              "      <td>Act of Killing, The (2012)</td>\n",
              "      <td>Documentary</td>\n",
              "      <td>1.0</td>\n",
              "      <td>5.0</td>\n",
              "    </tr>\n",
              "    <tr>\n",
              "      <th>143031</th>\n",
              "      <td>Jump In! (2007)</td>\n",
              "      <td>Comedy|Drama|Romance</td>\n",
              "      <td>1.0</td>\n",
              "      <td>5.0</td>\n",
              "    </tr>\n",
              "    <tr>\n",
              "      <th>143511</th>\n",
              "      <td>Human (2015)</td>\n",
              "      <td>Documentary</td>\n",
              "      <td>1.0</td>\n",
              "      <td>5.0</td>\n",
              "    </tr>\n",
              "    <tr>\n",
              "      <th>143559</th>\n",
              "      <td>L.A. Slasher (2015)</td>\n",
              "      <td>Comedy|Crime|Fantasy</td>\n",
              "      <td>1.0</td>\n",
              "      <td>5.0</td>\n",
              "    </tr>\n",
              "    <tr>\n",
              "      <th>6201</th>\n",
              "      <td>Lady Jane (1986)</td>\n",
              "      <td>Drama|Romance</td>\n",
              "      <td>1.0</td>\n",
              "      <td>5.0</td>\n",
              "    </tr>\n",
              "    <tr>\n",
              "      <th>102217</th>\n",
              "      <td>Bill Hicks: Revelations (1993)</td>\n",
              "      <td>Comedy</td>\n",
              "      <td>1.0</td>\n",
              "      <td>5.0</td>\n",
              "    </tr>\n",
              "    <tr>\n",
              "      <th>102084</th>\n",
              "      <td>Justice League: Doom (2012)</td>\n",
              "      <td>Action|Animation|Fantasy</td>\n",
              "      <td>1.0</td>\n",
              "      <td>5.0</td>\n",
              "    </tr>\n",
              "    <tr>\n",
              "      <th>6192</th>\n",
              "      <td>Open Hearts (Elsker dig for evigt) (2002)</td>\n",
              "      <td>Romance</td>\n",
              "      <td>1.0</td>\n",
              "      <td>5.0</td>\n",
              "    </tr>\n",
              "    <tr>\n",
              "      <th>145994</th>\n",
              "      <td>Formula of Love (1984)</td>\n",
              "      <td>Comedy</td>\n",
              "      <td>1.0</td>\n",
              "      <td>5.0</td>\n",
              "    </tr>\n",
              "  </tbody>\n",
              "</table>\n",
              "</div>"
            ],
            "text/plain": [
              "                                               titulo  ... nota_promedio\n",
              "peliculaId                                             ...              \n",
              "88448           Paper Birds (Pájaros de papel) (2010)  ...           5.0\n",
              "100556                     Act of Killing, The (2012)  ...           5.0\n",
              "143031                                Jump In! (2007)  ...           5.0\n",
              "143511                                   Human (2015)  ...           5.0\n",
              "143559                            L.A. Slasher (2015)  ...           5.0\n",
              "6201                                 Lady Jane (1986)  ...           5.0\n",
              "102217                 Bill Hicks: Revelations (1993)  ...           5.0\n",
              "102084                   Justice League: Doom (2012)   ...           5.0\n",
              "6192        Open Hearts (Elsker dig for evigt) (2002)  ...           5.0\n",
              "145994                         Formula of Love (1984)  ...           5.0\n",
              "\n",
              "[10 rows x 4 columns]"
            ]
          },
          "metadata": {
            "tags": []
          },
          "execution_count": 32
        }
      ]
    },
    {
      "cell_type": "markdown",
      "metadata": {
        "id": "64AnzvJSxeTA"
      },
      "source": [
        "Lo logramos, ahora tenemos una lista para recomendar segun la nota promedio...\r\n",
        "\r\n",
        "Espera un momento, ¿esta recomendacion de verdad estara bien?, es decir tienen buenas calificaciones, pero solo una persona las ha visto. Tal vez, sea buena idea el decirle al recomendador que solo nos recomiende por calificacion a las que tengan mas de 100 votos."
      ]
    },
    {
      "cell_type": "code",
      "metadata": {
        "colab": {
          "base_uri": "https://localhost:8080/",
          "height": 394
        },
        "id": "y7s-knnTvHnW",
        "outputId": "43aedd31-a17b-47be-db01-5b42777ba451"
      },
      "source": [
        "# primero le decimos que solo tome las filas que cumplen que en la columna \r\n",
        "# total_de_votos se tengan mas de los votos necesarios para hacer valida la \r\n",
        "# nota_promedio, luego pedimos que las ordene y luego que nos muestre las N primeras\r\n",
        "N = 10 # se puede cambiar\r\n",
        "votos_necesarios = 100 # son los votos con los que decidimos que una nota promedio es util\r\n",
        "peliculas[peliculas[\"total_de_votos\"]>votos_necesarios].sort_values(\"nota_promedio\", ascending = False).head(N)"
      ],
      "execution_count": 34,
      "outputs": [
        {
          "output_type": "execute_result",
          "data": {
            "text/html": [
              "<div>\n",
              "<style scoped>\n",
              "    .dataframe tbody tr th:only-of-type {\n",
              "        vertical-align: middle;\n",
              "    }\n",
              "\n",
              "    .dataframe tbody tr th {\n",
              "        vertical-align: top;\n",
              "    }\n",
              "\n",
              "    .dataframe thead th {\n",
              "        text-align: right;\n",
              "    }\n",
              "</style>\n",
              "<table border=\"1\" class=\"dataframe\">\n",
              "  <thead>\n",
              "    <tr style=\"text-align: right;\">\n",
              "      <th></th>\n",
              "      <th>titulo</th>\n",
              "      <th>generos</th>\n",
              "      <th>total_de_votos</th>\n",
              "      <th>nota_promedio</th>\n",
              "    </tr>\n",
              "    <tr>\n",
              "      <th>peliculaId</th>\n",
              "      <th></th>\n",
              "      <th></th>\n",
              "      <th></th>\n",
              "      <th></th>\n",
              "    </tr>\n",
              "  </thead>\n",
              "  <tbody>\n",
              "    <tr>\n",
              "      <th>318</th>\n",
              "      <td>Shawshank Redemption, The (1994)</td>\n",
              "      <td>Crime|Drama</td>\n",
              "      <td>317.0</td>\n",
              "      <td>4.429022</td>\n",
              "    </tr>\n",
              "    <tr>\n",
              "      <th>858</th>\n",
              "      <td>Godfather, The (1972)</td>\n",
              "      <td>Crime|Drama</td>\n",
              "      <td>192.0</td>\n",
              "      <td>4.289062</td>\n",
              "    </tr>\n",
              "    <tr>\n",
              "      <th>2959</th>\n",
              "      <td>Fight Club (1999)</td>\n",
              "      <td>Action|Crime|Drama|Thriller</td>\n",
              "      <td>218.0</td>\n",
              "      <td>4.272936</td>\n",
              "    </tr>\n",
              "    <tr>\n",
              "      <th>1221</th>\n",
              "      <td>Godfather: Part II, The (1974)</td>\n",
              "      <td>Crime|Drama</td>\n",
              "      <td>129.0</td>\n",
              "      <td>4.259690</td>\n",
              "    </tr>\n",
              "    <tr>\n",
              "      <th>48516</th>\n",
              "      <td>Departed, The (2006)</td>\n",
              "      <td>Crime|Drama|Thriller</td>\n",
              "      <td>107.0</td>\n",
              "      <td>4.252336</td>\n",
              "    </tr>\n",
              "    <tr>\n",
              "      <th>1213</th>\n",
              "      <td>Goodfellas (1990)</td>\n",
              "      <td>Crime|Drama</td>\n",
              "      <td>126.0</td>\n",
              "      <td>4.250000</td>\n",
              "    </tr>\n",
              "    <tr>\n",
              "      <th>58559</th>\n",
              "      <td>Dark Knight, The (2008)</td>\n",
              "      <td>Action|Crime|Drama|IMAX</td>\n",
              "      <td>149.0</td>\n",
              "      <td>4.238255</td>\n",
              "    </tr>\n",
              "    <tr>\n",
              "      <th>50</th>\n",
              "      <td>Usual Suspects, The (1995)</td>\n",
              "      <td>Crime|Mystery|Thriller</td>\n",
              "      <td>204.0</td>\n",
              "      <td>4.237745</td>\n",
              "    </tr>\n",
              "    <tr>\n",
              "      <th>1197</th>\n",
              "      <td>Princess Bride, The (1987)</td>\n",
              "      <td>Action|Adventure|Comedy|Fantasy|Romance</td>\n",
              "      <td>142.0</td>\n",
              "      <td>4.232394</td>\n",
              "    </tr>\n",
              "    <tr>\n",
              "      <th>260</th>\n",
              "      <td>Star Wars: Episode IV - A New Hope (1977)</td>\n",
              "      <td>Action|Adventure|Sci-Fi</td>\n",
              "      <td>251.0</td>\n",
              "      <td>4.231076</td>\n",
              "    </tr>\n",
              "  </tbody>\n",
              "</table>\n",
              "</div>"
            ],
            "text/plain": [
              "                                               titulo  ... nota_promedio\n",
              "peliculaId                                             ...              \n",
              "318                  Shawshank Redemption, The (1994)  ...      4.429022\n",
              "858                             Godfather, The (1972)  ...      4.289062\n",
              "2959                                Fight Club (1999)  ...      4.272936\n",
              "1221                   Godfather: Part II, The (1974)  ...      4.259690\n",
              "48516                            Departed, The (2006)  ...      4.252336\n",
              "1213                                Goodfellas (1990)  ...      4.250000\n",
              "58559                         Dark Knight, The (2008)  ...      4.238255\n",
              "50                         Usual Suspects, The (1995)  ...      4.237745\n",
              "1197                       Princess Bride, The (1987)  ...      4.232394\n",
              "260         Star Wars: Episode IV - A New Hope (1977)  ...      4.231076\n",
              "\n",
              "[10 rows x 4 columns]"
            ]
          },
          "metadata": {
            "tags": []
          },
          "execution_count": 34
        }
      ]
    },
    {
      "cell_type": "markdown",
      "metadata": {
        "id": "SwcH2QNH0GQB"
      },
      "source": [
        "Ahora si, tenemos una lista con recomendaciones por calificaciones que nos da resultados mas confiables."
      ]
    },
    {
      "cell_type": "markdown",
      "metadata": {
        "id": "eYjH_lD01N52"
      },
      "source": [
        "# Continuara...\r\n",
        "Pero igual puedes intentar inventar una 3era heuristica de recomendacion, no es necesario implementarla, puede ser una combinacion de el total de votos junto a la nota promedio, o tal vez incluir la desviacion estandar de las notas y dividir la nota promedio por las desviacion estandar, asi favoreciendo a las peliculas en las que las notas estan mas juntas. O tal vez otra cosa, cualquier metodo puede ser una posible solucion."
      ]
    }
  ]
}