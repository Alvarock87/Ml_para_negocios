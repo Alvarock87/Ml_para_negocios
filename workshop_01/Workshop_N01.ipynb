{
  "nbformat": 4,
  "nbformat_minor": 0,
  "metadata": {
    "colab": {
      "name": "Workshop N01.ipynb",
      "provenance": [],
      "authorship_tag": "ABX9TyN8nB9V+yCtKbrOXBPS0kW0",
      "include_colab_link": true
    },
    "kernelspec": {
      "name": "python3",
      "display_name": "Python 3"
    }
  },
  "cells": [
    {
      "cell_type": "markdown",
      "metadata": {
        "id": "view-in-github",
        "colab_type": "text"
      },
      "source": [
        "<a href=\"https://colab.research.google.com/github/emmt1998/ML-para-Negocios/blob/main/workshop_01/Workshop_N01.ipynb\" target=\"_parent\"><img src=\"https://colab.research.google.com/assets/colab-badge.svg\" alt=\"Open In Colab\"/></a>"
      ]
    },
    {
      "cell_type": "markdown",
      "metadata": {
        "id": "qWO894XtENJw"
      },
      "source": [
        "# Workshop N01\r\n",
        "Dictado por Sergio Valenzuela / sergio@tecnopolis.ai / serginho61@gmail.com\r\n",
        "\r\n",
        "Redactado por Efrain Magaña / emmt1998@gmail.com\r\n"
      ]
    },
    {
      "cell_type": "markdown",
      "metadata": {
        "id": "ZIINrChTFfMc"
      },
      "source": [
        "## Extraccion de Features(Caracteristicas)\r\n",
        "Cada dato tiene caracteristicas que lo diferencian de los demas, en este caso los datos son animales y un subconjunto muy limitado de ellos, conformado solamente por cerdos y perros, y nos enfocaremos solo en tres caracteristicas, gordura, largo de pierna y sonido que hacen.\r\n",
        "\r\n",
        "\r\n",
        "1.   Para la gordura, nos preguntaremos **¿Esta gordito?**\r\n",
        "2.   Para el largo de pierna, nos preguntaremos **¿Tiene piernas cortas?**\r\n",
        "3.   y para el sonido que hace, nos preguntaremos **¿Hace oink oink?**\r\n",
        "\r\n",
        "Estas preguntas se pueden responder con un si o un no para cada dato que tenemos, usaremos un **1** para responder que si y un **0** para decir que no.\r\n",
        "\r\n",
        "\r\n",
        "### Cerdos\r\n",
        "<img src=\"https://raw.githubusercontent.com/emmt1998/ML-para-Negocios/main/workshop_01/bin/cerdos.png\" height=\"200\">\r\n",
        "\r\n",
        "### Perros\r\n",
        "<img src=\"https://raw.githubusercontent.com/emmt1998/ML-para-Negocios/main/workshop_01/bin/perros.png\" height=\"200\">"
      ]
    },
    {
      "cell_type": "code",
      "metadata": {
        "id": "CIujG6SbKFFW"
      },
      "source": [
        ""
      ],
      "execution_count": null,
      "outputs": []
    },
    {
      "cell_type": "code",
      "metadata": {
        "colab": {
          "base_uri": "https://localhost:8080/"
        },
        "id": "zlJhuMP-ELPj",
        "outputId": "437ed0d2-e2f9-4417-9774-a5c68722a700"
      },
      "source": [
        "# [ es gordito?, tiene pierna corta? ,  dice guau guau ? ]\r\n",
        "puerco1=[1,1,0]\r\n",
        "puerco2=[1,1,0]\r\n",
        "puerco3=[1,1,0]\r\n",
        "perro1=[1,1,1]\r\n",
        "perro2=[0,1,1]\r\n",
        "perro3=[0,1,1]\r\n",
        "\r\n",
        "datos=[puerco1,puerco2,puerco3,perro1,perro2,perro3]\r\n",
        "\r\n",
        "# cerdo:1   perro:-1\r\n",
        "etiquetas=[1,1,1,-1,-1,-1]\r\n",
        "\r\n",
        "\r\n",
        "from sklearn.naive_bayes import MultinomialNB\r\n",
        "modelo=MultinomialNB()\r\n",
        "\r\n",
        "modelo.fit(datos,etiquetas)\r\n",
        "\r\n",
        "\r\n",
        "misterioso1=[1,1,1]\r\n",
        "misterioso2=[1,0,0]\r\n",
        "misterioso3=[1,0,1]\r\n",
        "\r\n",
        "testeo=[misterioso1, misterioso2, misterioso3]\r\n",
        "etiquetas_testeo = [-1, 1, 1]\r\n",
        "\r\n",
        "resultado= modelo.predict(testeo)\r\n",
        "\r\n",
        "diferencias = resultado - etiquetas_testeo\r\n",
        "aciertos = [ d for d in diferencias if d == 0]\r\n",
        "\r\n",
        "total_aciertos = len(aciertos)\r\n",
        "total_elementos = len(testeo)\r\n",
        "\r\n",
        "tasa_aciertos = 100.0 * total_aciertos /total_elementos\r\n",
        "\r\n",
        "print('resultado: ', resultado)\r\n",
        "print('diferencias: ', diferencias)\r\n",
        "print('tasa de aciertos: ', tasa_aciertos,'%')\r\n"
      ],
      "execution_count": 1,
      "outputs": [
        {
          "output_type": "stream",
          "text": [
            "resultado:  [-1  1 -1]\n",
            "diferencias:  [ 0  0 -2]\n",
            "tasa de aciertos:  66.66666666666667 %\n"
          ],
          "name": "stdout"
        }
      ]
    },
    {
      "cell_type": "code",
      "metadata": {
        "id": "d1rIGvKVFUnr"
      },
      "source": [
        ""
      ],
      "execution_count": null,
      "outputs": []
    }
  ]
}