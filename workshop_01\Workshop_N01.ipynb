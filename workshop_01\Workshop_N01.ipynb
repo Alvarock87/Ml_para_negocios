{
  "nbformat": 4,
  "nbformat_minor": 0,
  "metadata": {
    "colab": {
      "name": "Workshop N01.ipynb",
      "provenance": [],
      "authorship_tag": "ABX9TyOk9XVo4ik8kJsa4tXQma0l",
      "include_colab_link": true
    },
    "kernelspec": {
      "name": "python3",
      "display_name": "Python 3"
    }
  },
  "cells": [
    {
      "cell_type": "markdown",
      "metadata": {
        "id": "view-in-github",
        "colab_type": "text"
      },
      "source": [
        "<a href=\"https://colab.research.google.com/github/emmt1998/ML-para-Negocios/blob/main/workshop_01%5CWorkshop_N01.ipynb\" target=\"_parent\"><img src=\"https://colab.research.google.com/assets/colab-badge.svg\" alt=\"Open In Colab\"/></a>"
      ]
    },
    {
      "cell_type": "markdown",
      "metadata": {
        "id": "qWO894XtENJw"
      },
      "source": [
        "# Workshop N01\r\n",
        "Dictado por Sergio Valenzuela / sergio@tecnopolis.ai / serginho61@gmail.com\r\n",
        "\r\n",
        "Redactado por Efrain Magaña / emmt1998@gmail.com\r\n",
        "\r\n",
        "Puedes copiar este Jupyter Notebook a tu drive llendo a Archivo-> Guardar una Copia en Drive\r\n"
      ]
    },
    {
      "cell_type": "markdown",
      "metadata": {
        "id": "ZIINrChTFfMc"
      },
      "source": [
        "## Extraccion de Features(Caracteristicas)\r\n",
        "Cada dato tiene caracteristicas que lo diferencian de los demas, en este caso los datos son animales y un subconjunto muy limitado de ellos, conformado solamente por cerdos y perros, y nos enfocaremos solo en tres caracteristicas, gordura, largo de pierna y sonido que hacen.\r\n",
        "\r\n",
        "\r\n",
        "1.   Para la gordura, nos preguntaremos **¿Esta gordito?**\r\n",
        "2.   Para el largo de pierna, nos preguntaremos **¿Tiene piernas cortas?**\r\n",
        "3.   y para el sonido que hace, nos preguntaremos **¿Hace oink oink?**\r\n",
        "\r\n",
        "Estas preguntas se pueden responder con un si o un no para cada dato que tenemos, usaremos un **1** para responder que si y un **0** para decir que no.\r\n",
        "\r\n",
        "\r\n",
        "### Cerdos\r\n",
        "<img src=\"https://raw.githubusercontent.com/emmt1998/ML-para-Negocios/main/workshop_01/bin/cerdos.png\" height=\"200\">\r\n",
        "\r\n",
        "### Perros\r\n",
        "<img src=\"https://raw.githubusercontent.com/emmt1998/ML-para-Negocios/main/workshop_01/bin/perros.png\" height=\"200\">"
      ]
    },
    {
      "cell_type": "markdown",
      "metadata": {
        "id": "HTbCI6ZNNiJQ"
      },
      "source": [
        "### Metodo #1\r\n",
        "A continuacion se presenta una implementacion de como agregar datos a nuestra lista."
      ]
    },
    {
      "cell_type": "code",
      "metadata": {
        "colab": {
          "base_uri": "https://localhost:8080/"
        },
        "id": "CIujG6SbKFFW",
        "outputId": "97138e47-9889-4842-f07f-efd27b4481f0"
      },
      "source": [
        "# [ es gordito?, tiene pierna corta? ,  dice oink oink ? ]\r\n",
        "puerco1=[1,1,1]\r\n",
        "puerco2=[1,1,1]\r\n",
        "puerco3=[1,1,1]\r\n",
        "perro1=[1,1,0]\r\n",
        "perro2=[0,1,0]\r\n",
        "perro3=[0,1,0]\r\n",
        "\r\n",
        "datos=[puerco1,puerco2,puerco3,perro1,perro2,perro3]\r\n",
        "\r\n",
        "# cerdo:1   perro:-1\r\n",
        "etiquetas=[1,1,1,-1,-1,-1]\r\n",
        "print(\"Datos\" ,datos)\r\n",
        "print(\"Etiquetas\" ,etiquetas)"
      ],
      "execution_count": 19,
      "outputs": [
        {
          "output_type": "stream",
          "text": [
            "Datos [[1, 1, 1], [1, 1, 1], [1, 1, 1], [1, 1, 0], [0, 1, 0], [0, 1, 0]]\n",
            "Etiquetas [1, 1, 1, -1, -1, -1]\n"
          ],
          "name": "stdout"
        }
      ]
    },
    {
      "cell_type": "markdown",
      "metadata": {
        "id": "Xj2PNgViOOLL"
      },
      "source": [
        "### Mtodo #2\r\n",
        "A continuacion se presenta otra implementacion, ambas son validas y el uso depende de cual te acomodes mas. La ventaja de esta ultima es que puedes agregar otro cerdo o perro con solo una linea de codigo y las datos y las etiquetas debiesen cambiar acorde."
      ]
    },
    {
      "cell_type": "code",
      "metadata": {
        "colab": {
          "base_uri": "https://localhost:8080/"
        },
        "id": "L973cog2OjZV",
        "outputId": "d621d7b3-4109-48e1-8e90-ad25da6c9493"
      },
      "source": [
        "# [ es gordito?, tiene pierna corta? ,  dice oink oink ? ]\r\n",
        "cerdos = [[1,1,1],\r\n",
        "          [1,1,1],\r\n",
        "          [1,1,1]]\r\n",
        "perros = [[1,1,0],\r\n",
        "          [0,1,0],\r\n",
        "          [0,1,0]]\r\n",
        "datos2 = cerdos + perros\r\n",
        "\r\n",
        "# cerdo:1   perro:-1\r\n",
        "etiquetas2 = [1]*len(cerdos) + [-1]*len(perros)\r\n",
        "print(\"Datos\" ,datos2)\r\n",
        "print(\"Etiquetas\" ,etiquetas2)"
      ],
      "execution_count": 20,
      "outputs": [
        {
          "output_type": "stream",
          "text": [
            "Datos [[1, 1, 1], [1, 1, 1], [1, 1, 1], [1, 1, 0], [0, 1, 0], [0, 1, 0]]\n",
            "Etiquetas [1, 1, 1, -1, -1, -1]\n"
          ],
          "name": "stdout"
        }
      ]
    },
    {
      "cell_type": "markdown",
      "metadata": {
        "id": "WljLK_zhQ0Ud"
      },
      "source": [
        "Si se quiere agregar un cerdo mas:\r\n",
        "\r\n",
        "Esto\r\n",
        "```\r\n",
        "cerdos = [[1,1,1],\r\n",
        "          [1,1,1],\r\n",
        "          [1,1,1]]\r\n",
        "```\r\n",
        "pasa a esto\r\n",
        "\r\n",
        "```\r\n",
        "cerdos = [[1,1,1],\r\n",
        "          [1,1,1],\r\n",
        "          [1,1,1],\r\n",
        "          [0,1,1]]   #Este es el nuevo cerdo\r\n",
        "```\r\n",
        "o puedes ejecutar cerdos.append(nuevocerdo) despues de que se cree la lista cerdos, asi\r\n",
        "\r\n",
        "```\r\n",
        "cerdos = [[1,1,1],\r\n",
        "          [1,1,1],\r\n",
        "          [1,1,1]]   \r\n",
        "cerdos.append([0,1,1]) #Con esto el nuevo cerdo queda agregado a nuestra lista\r\n",
        "```"
      ]
    },
    {
      "cell_type": "markdown",
      "metadata": {
        "id": "caP4KxRcSJvC"
      },
      "source": [
        "## Entrenamiento y Testeo\r\n",
        "Primero importamos de la libreria sklearn, un modelo Naive Bayes Multinomial, como este workshop es mas de hacer que aprenderse la teoria pura, simplemente lo vamos a usar.\r\n",
        "\r\n",
        "Pero si quieres saber la teoria pura te recomiendo que leas el siguiente link:\r\n",
        "\r\n",
        " https://scikit-learn.org/stable/modules/naive_bayes.html"
      ]
    },
    {
      "cell_type": "code",
      "metadata": {
        "colab": {
          "base_uri": "https://localhost:8080/"
        },
        "id": "zlJhuMP-ELPj",
        "outputId": "66390c22-b2f4-41de-eb3b-2302a28f7743"
      },
      "source": [
        "from sklearn.naive_bayes import MultinomialNB\r\n",
        "\r\n",
        "modelo=MultinomialNB()\r\n",
        "modelo.fit(datos, etiquetas) #el modelo se ajusta a los datos que tenemos"
      ],
      "execution_count": 25,
      "outputs": [
        {
          "output_type": "execute_result",
          "data": {
            "text/plain": [
              "MultinomialNB(alpha=1.0, class_prior=None, fit_prior=True)"
            ]
          },
          "metadata": {
            "tags": []
          },
          "execution_count": 25
        }
      ]
    },
    {
      "cell_type": "markdown",
      "metadata": {
        "id": "8JVkc105Ul6c"
      },
      "source": [
        "Con esto ya entrenamos un modelo, pero ahora ¿como sabemos que es un buen modelo?\r\n",
        "\r\n",
        "Para esto necesitamos datos de testeo, estos son datos de los cuales sabemos a que clase pertenecen, en este caso cerdo o perro, pero que el modelo no conoce."
      ]
    },
    {
      "cell_type": "code",
      "metadata": {
        "colab": {
          "base_uri": "https://localhost:8080/"
        },
        "id": "Q65mFTdIUZh9",
        "outputId": "dc060d72-0e81-44d2-b5fc-b10fb6d7feb6"
      },
      "source": [
        "# primero definimos nuestros datos de testeo\r\n",
        "# [ es gordito?, tiene pierna corta? ,  dice oink oink ? ]\r\n",
        "misterioso1=[1,1,0]\r\n",
        "misterioso2=[1,0,1]\r\n",
        "misterioso3=[1,0,0]\r\n",
        "\r\n",
        "testeo=[misterioso1, misterioso2, misterioso3]\r\n",
        "etiquetas_testeo = [-1, 1, 1]\r\n",
        "\r\n",
        "# le pedimos al modelo que prediga estos datos\r\n",
        "resultado= modelo.predict(testeo)\r\n",
        "\r\n",
        "# calculamos la diferencia de la clase real con la clase predicha\r\n",
        "diferencias = resultado - etiquetas_testeo\r\n",
        "# si esta diferencia es igual a 0, es porque el modelo acerto en su prediccion\r\n",
        "aciertos = [ d for d in diferencias if d == 0]\r\n",
        "\r\n",
        "# Ahora calculamos la tasa de aciertos\r\n",
        "total_aciertos = len(aciertos)\r\n",
        "total_elementos = len(testeo)\r\n",
        "\r\n",
        "tasa_aciertos = 100.0 * total_aciertos /total_elementos\r\n",
        "\r\n",
        "print('resultado: ', resultado)\r\n",
        "print('diferencias: ', diferencias)\r\n",
        "print('tasa de aciertos: ', tasa_aciertos,'%')"
      ],
      "execution_count": 28,
      "outputs": [
        {
          "output_type": "stream",
          "text": [
            "resultado:  [-1  1  1]\n",
            "diferencias:  [0 0 0]\n",
            "tasa de aciertos:  100.0 %\n"
          ],
          "name": "stdout"
        }
      ]
    },
    {
      "cell_type": "markdown",
      "metadata": {
        "id": "zsJay--hXOBs"
      },
      "source": [
        "Nuestro modelo acerto en todos los datos, hubieramos esperado que se equivocara en el cerdo que solo esta gordo y que no tiene las patas cortas y que no hace onik onik, pero el modelo logro acertar. Ya que si notamos en nuestros datos de entrenamiento, los cerdos son siempre gorditos, pero los perros rara vez lo son, 1/3. Ademas, de que solo tenemos casos de animales con las piernas cortas, por lo que el modelo no le toma importancia a esa caracteristica.\r\n",
        "\r\n",
        "Aun asi, ¿podemos decir que este 100% se mantendra al aumentar la cantidad de datos de testeo?\r\n",
        "\r\n",
        "Veamos:"
      ]
    },
    {
      "cell_type": "code",
      "metadata": {
        "colab": {
          "base_uri": "https://localhost:8080/"
        },
        "id": "2jm96yWMeCd2",
        "outputId": "7b804506-0257-430f-d46c-ed02f07c3462"
      },
      "source": [
        "# primero definimos nuestros datos de testeo\r\n",
        "# [ es gordito?, tiene pierna corta? ,  dice oink oink ? ]\r\n",
        "cerdos_testeo = [[1,0,1],\r\n",
        "                 [1,0,0],\r\n",
        "                 [1,1,0],\r\n",
        "                 [0,1,1]]\r\n",
        "perros_testeo = [[1,1,0],\r\n",
        "                 [1,0,0],\r\n",
        "                 [0,1,0]]\r\n",
        "testeo = cerdos_testeo + perros_testeo\r\n",
        "\r\n",
        "# cerdo:1   perro:-1\r\n",
        "etiquetas_testeo = [1]*len(cerdos_testeo) + [-1]*len(perros_testeo)\r\n",
        "\r\n",
        "# le pedimos al modelo que prediga estos datos\r\n",
        "resultado= modelo.predict(testeo)\r\n",
        "\r\n",
        "# calculamos la diferencia de la clase real con la clase predicha\r\n",
        "diferencias = resultado - etiquetas_testeo\r\n",
        "# si esta diferencia es igual a 0, es porque el modelo acerto en su prediccion\r\n",
        "aciertos = [ d for d in diferencias if d == 0]\r\n",
        "\r\n",
        "# Ahora calculamos la tasa de aciertos\r\n",
        "total_aciertos = len(aciertos)\r\n",
        "total_elementos = len(testeo)\r\n",
        "\r\n",
        "tasa_aciertos = 100.0 * total_aciertos /total_elementos\r\n",
        "\r\n",
        "print(\"Datos de Testeo\" ,testeo)\r\n",
        "print(\"Etiquetas de Testeo    :\" ,etiquetas_testeo)\r\n",
        "print('Resultado de prediccion: ', resultado)\r\n",
        "print('diferencias: ', diferencias)\r\n",
        "print('tasa de aciertos: ', tasa_aciertos,'%')"
      ],
      "execution_count": 33,
      "outputs": [
        {
          "output_type": "stream",
          "text": [
            "Datos de Testeo [[1, 0, 1], [1, 0, 0], [1, 1, 0], [0, 1, 1], [1, 1, 0], [1, 0, 0], [0, 1, 0]]\n",
            "Etiquetas de Testeo    : [1, 1, 1, 1, -1, -1, -1]\n",
            "Resultado de prediccion:  [ 1  1 -1  1 -1  1 -1]\n",
            "diferencias:  [ 0  0 -2  0  0  2  0]\n",
            "tasa de aciertos:  71.42857142857143 %\n"
          ],
          "name": "stdout"
        }
      ]
    },
    {
      "cell_type": "markdown",
      "metadata": {
        "id": "Szu1UwNne8Oa"
      },
      "source": [
        "Pues no, la tasa de aciertos no se mantuvo al solo aumentar los datos de testeo."
      ]
    },
    {
      "cell_type": "markdown",
      "metadata": {
        "id": "DMZpe0O0XolX"
      },
      "source": [
        "## Como mejoramos los resultados de un modelo\r\n",
        "\r\n",
        "\r\n",
        "*   Podemos entrenarlo con mas datos: si el modelo ha visto 20 cerdos le sera mas facil predecir si es un cerdo, que si solo ha visto 3, lo mismo con los perros.\r\n",
        "*   Podemos extraer otras caracteristicas: preguntate si existe otro tipo de caracteristicas que podria ser de ayuda, por ejemplo **¿Tiene garras?**, **¿Tiene las orejas puntiagudas?** o **¿Tiene pelaje notorio?**\r\n",
        "\r\n",
        "Intenta mejorar el modelo y comentanos si lo lograste o no en la proxima sesion.\r\n",
        "\r\n",
        "Aqui abajo te dejo todo el codigo junto para que te sea facil el desarrollar tu propuesta.\r\n",
        "\r\n",
        "Usa estas imagenes para generar mas datos:\r\n",
        "### Cerdos\r\n",
        "<img src=\"https://raw.githubusercontent.com/emmt1998/ML-para-Negocios/main/workshop_01/bin/cerdos.png\" height=\"200\">\r\n",
        "\r\n",
        "### Perros\r\n",
        "<img src=\"https://raw.githubusercontent.com/emmt1998/ML-para-Negocios/main/workshop_01/bin/perros.png\" height=\"200\">\r\n",
        "\r\n"
      ]
    },
    {
      "cell_type": "code",
      "metadata": {
        "colab": {
          "base_uri": "https://localhost:8080/"
        },
        "id": "d1rIGvKVFUnr",
        "outputId": "85a1e054-5590-4985-a465-b18bdb372b4e"
      },
      "source": [
        "from sklearn.naive_bayes import MultinomialNB\r\n",
        "# [ es gordito?, tiene pierna corta? ,  dice oink oink ? ]\r\n",
        "cerdos = [[1,1,1],\r\n",
        "          [1,1,1],\r\n",
        "          [1,1,1]]\r\n",
        "perros = [[1,1,0],\r\n",
        "          [0,1,0],\r\n",
        "          [0,1,0]]\r\n",
        "datos = cerdos + perros\r\n",
        "\r\n",
        "# cerdo:1   perro:-1\r\n",
        "etiquetas = [1]*len(cerdos) + [-1]*len(perros)\r\n",
        "print(\"Datos\" ,datos)\r\n",
        "print(\"Etiquetas\" ,etiquetas)\r\n",
        "#--------------------------------------------------\r\n",
        "# aca se usa el metodo #2 para agregar datos de testeo\r\n",
        "# [ es gordito?, tiene pierna corta? ,  dice oink oink ? ]\r\n",
        "cerdos_testeo = [[1,0,1],\r\n",
        "                 [1,0,0],\r\n",
        "                 [1,1,0],\r\n",
        "                 [0,1,1]]\r\n",
        "perros_testeo = [[1,1,0],\r\n",
        "                 [1,0,0],\r\n",
        "                 [0,1,0]]\r\n",
        "testeo = cerdos_testeo + perros_testeo\r\n",
        "\r\n",
        "# cerdo:1   perro:-1\r\n",
        "etiquetas_testeo = [1]*len(cerdos_testeo) + [-1]*len(perros_testeo)\r\n",
        "print(\"Datos de Testeo\" ,testeo)\r\n",
        "print(\"Etiquetas de Testeo\" ,etiquetas_testeo)\r\n",
        "#----------------------------------------------------\r\n",
        "modelo=MultinomialNB()\r\n",
        "modelo.fit(datos, etiquetas) #el modelo se ajusta a los datos que tenemos\r\n",
        "#--------------------------------------------------\r\n",
        "# le pedimos al modelo que prediga estos datos\r\n",
        "resultado= modelo.predict(testeo)\r\n",
        "\r\n",
        "# calculamos la diferencia de la clase real con la clase predicha\r\n",
        "diferencias = resultado - etiquetas_testeo\r\n",
        "# si esta diferencia es igual a 0, es porque el modelo acerto en su prediccion\r\n",
        "aciertos = [ d for d in diferencias if d == 0]\r\n",
        "\r\n",
        "# Ahora calculamos la tasa de aciertos\r\n",
        "total_aciertos = len(aciertos)\r\n",
        "total_elementos = len(testeo)\r\n",
        "\r\n",
        "tasa_aciertos = 100.0 * total_aciertos /total_elementos\r\n",
        "\r\n",
        "print('resultado: ', resultado)\r\n",
        "print('diferencias: ', diferencias)\r\n",
        "print('tasa de aciertos: ', tasa_aciertos,'%')"
      ],
      "execution_count": 34,
      "outputs": [
        {
          "output_type": "stream",
          "text": [
            "Datos [[1, 1, 1], [1, 1, 1], [1, 1, 1], [1, 1, 0], [0, 1, 0], [0, 1, 0]]\n",
            "Etiquetas [1, 1, 1, -1, -1, -1]\n",
            "Datos de Testeo [[1, 0, 1], [1, 0, 0], [1, 1, 0], [0, 1, 1], [1, 1, 0], [1, 0, 0], [0, 1, 0]]\n",
            "Etiquetas de Testeo [1, 1, 1, 1, -1, -1, -1]\n",
            "resultado:  [ 1  1 -1  1 -1  1 -1]\n",
            "diferencias:  [ 0  0 -2  0  0  2  0]\n",
            "tasa de aciertos:  71.42857142857143 %\n"
          ],
          "name": "stdout"
        }
      ]
    },
    {
      "cell_type": "code",
      "metadata": {
        "id": "icZRPefwcZa1"
      },
      "source": [
        ""
      ],
      "execution_count": null,
      "outputs": []
    }
  ]
}